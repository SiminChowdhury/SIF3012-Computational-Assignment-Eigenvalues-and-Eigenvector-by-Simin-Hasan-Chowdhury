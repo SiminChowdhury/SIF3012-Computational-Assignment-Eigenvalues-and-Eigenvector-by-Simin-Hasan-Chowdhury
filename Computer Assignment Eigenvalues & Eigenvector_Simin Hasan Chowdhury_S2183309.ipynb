{
 "cells": [
  {
   "cell_type": "markdown",
   "metadata": {},
   "source": [
    "# Solving Eigenvalues and Transport Problems of One-Dimensional Schrodinger Equation"
   ]
  },
  {
   "cell_type": "markdown",
   "metadata": {},
   "source": [
    "## $-\\frac{ħ^{2}}{2m}\\frac{d^{2}ψ(x)}{dx^{2}}+V(x)ψ(x)=Eψ(x)$\n"
   ]
  },
  {
   "cell_type": "markdown",
   "metadata": {},
   "source": [
    "This is the one dimentional Time Independent Schrodinger Equation (TISE),\n",
    "\n",
    "where,\n",
    "\n",
    "* *m* is the mass of the particle.\n",
    "* *ħ* is the reduced Planck constant.\n",
    "* $E$ is the energy level.\n",
    "* $ψ(x)$ is the wave function.\n",
    "* $V(x)$ is the potential.\n",
    "\n"
   ]
  },
  {
   "cell_type": "markdown",
   "metadata": {},
   "source": [
    "We can rewrite the Schrodinger equation in the form of \n",
    "\n",
    "$$\n",
    "-\\frac{\\hbar^2}{2m} \\frac{d^2 \\psi}{dx^2} + V(x)\\psi = E\\psi\n",
    "$$\n",
    "\n",
    "\n",
    "which is in the same form as the linear shooting method (also known as the Sturm-Liouville problem) with:\n",
    "\n",
    "- $ p(x) = 1 $\n",
    "- $ q(x) = \\frac{2m[E - V(x)]}{\\hbar^2} $\n",
    "- $ r(x) = 0 $"
   ]
  },
  {
   "cell_type": "markdown",
   "metadata": {},
   "source": [
    "**The Eigenvalue Problem**\n",
    "\n",
    "For the eigenvalue problem, the particle is confined by the potential well $V(x)$ so that $\\psi(x) \\rightarrow 0$ with $x \\rightarrow \\infty$. To solve this eigenvalue problem, we can integrate the equation with the Numerov algorithm either from left to right or right to left of the potential region.\n",
    "\n",
    "Since the wavefunction goes to zero as $|x| \\rightarrow \\infty$, the integration from one side to another requires integrating from an exponentially increasing region to an oscillatory region and then into an exponentially decreasing region.\n",
    "\n",
    "To solve and reduce error when integrating the region, we need to integrate/obtain the solutions from both sides and match them in the well region. Matching is done when the energy is equal to the potential energy, i.e., $x_1$ and $x_r$. The so-called matching here is to adjust the trial eigenvalue until the solution integrated from the right $\\psi_r(x)$, and the solution integrated from the left $\\psi_l(x)$ satisfy the boundary conditions at one of the turning points.\n",
    "\n",
    "Choosing the turning point, the continuity conditions are:\n",
    "\n",
    "$$\n",
    "\\psi_l(x_r) = \\psi_r(x_r)\n",
    "$$\n",
    "$$\n",
    "\\psi_l'(x_r) = \\psi_r'(x_r)\n",
    "$$"
   ]
  },
  {
   "cell_type": "markdown",
   "metadata": {},
   "source": [
    "If we combine these two conditions, we have:\n",
    "\n",
    "$ \\frac{\\psi_l'(x_r)}{\\psi_l(x_r)} = \\frac{\\psi_r'(x_r)}{\\psi_r(x_r)} $\n",
    "\n",
    "Using the three point formula for the first-order, we have:\n",
    "\n",
    "$ f(E) = \\frac{[\\psi_l(x_r + h) - \\psi_l(x_r - h)] - [\\psi_r(x_r + h) - \\psi_r(x_r - h)]}{2h\\psi(x_r)} = 0 $\n",
    "\n",
    "The function can be solved using a root search scheme."
   ]
  },
  {
   "cell_type": "markdown",
   "metadata": {},
   "source": [
    "For the bound particle in the potential well:\n",
    "\n",
    "$$\n",
    "V(x) = \\frac{\\hbar^2}{2m} \\alpha^2 \\lambda (\\lambda - 1) \\left[ \\frac{1}{2} - \\frac{1}{\\cosh^2(\\alpha x)} \\right]\n",
    "$$\n",
    "\n",
    "The Schrödinger equation with this potential can be solved exactly with the eigenvalues:\n",
    "\n",
    "$$\n",
    "E_n = \\frac{\\hbar^2}{2m} \\alpha^2 \\left[ \\frac{\\lambda (\\lambda - 1)}{2} - (\\lambda - 1 - n)^2 \\right]\n",
    "$$\n",
    "\n",
    "for $n = 0, 1, 2, \\ldots$ with the values of $\\alpha = 1$, $\\lambda = 4$. For convenience, it is assumed that $\\hbar = m = 1$.\n"
   ]
  },
  {
   "cell_type": "markdown",
   "metadata": {},
   "source": [
    "**Using Python to Solve for One-Dimentional TISE Using Numrov Method**\n",
    "\n",
    "**1. Importing Required Libraries**\n",
    "\n",
    "First, we need to import the necessary libraries:\n",
    "- NumPy: For numerical array operations.\n",
    "- Matplotlib: For visualizing the wavefunction and eigenvalues."
   ]
  },
  {
   "cell_type": "code",
   "execution_count": 14,
   "metadata": {},
   "outputs": [],
   "source": [
    "import numpy as np\n",
    "import matplotlib.pyplot as plt"
   ]
  },
  {
   "cell_type": "markdown",
   "metadata": {},
   "source": [
    "**2. Defining the Parameters**\n",
    "\n",
    "The potential function $ V(x) $ is defined using the given parameters $ \\alpha $ and $\\lambda $. \n",
    "\n",
    "The equation for $ V(x) $ is:\n",
    "$$\n",
    "V(x) = \\frac{\\alpha^2 \\lambda (\\lambda - 1)}{2} \\left( 0.5 - \\frac{1}{\\cosh^2(\\alpha x)} \\right),\n",
    "$$\n",
    "which is used in the Schrödinger equation to determine the particle's behavior in the potential well.\n"
   ]
  },
  {
   "cell_type": "code",
   "execution_count": 15,
   "metadata": {},
   "outputs": [],
   "source": [
    "def potential(x, alpha=1, lamb=4):\n",
    "    \"\"\"Hyperbolic potential function V(x)\"\"\"\n",
    "    return alpha**2 * lamb * (lamb - 1) * (0.5 - 1 / np.cosh(alpha * x)**2) / 2"
   ]
  },
  {
   "cell_type": "markdown",
   "metadata": {},
   "source": [
    "**3. Implementing the Numerov Algorithm**\n",
    "\n",
    "The Numerov algorithm solves second-order differential equations with high accuracy. \n",
    "\n",
    "It calculates the wavefunction values $ u_i $ iteratively using:\n",
    "$$\n",
    "u_{i+1} = \\frac{2u_i(1 - \\frac{5}{12} h^2 q_i) - u_{i-1}(1 + \\frac{1}{12} h^2 q_{i-1})}{1 + \\frac{1}{12} h^2 q_{i+1}},\n",
    "$$\n",
    "where $ h $ is the step size, and $ q(x) $ is derived from the potential and energy.\n"
   ]
  },
  {
   "cell_type": "code",
   "execution_count": 16,
   "metadata": {},
   "outputs": [],
   "source": [
    "def numerov(u0, u1, q, h):\n",
    "    \"\"\"Numerov algorithm for solving the Schrödinger equation\"\"\"\n",
    "    n = len(q)\n",
    "    u = np.zeros(n)\n",
    "    u[0] = u0\n",
    "    u[1] = u1\n",
    "    g = h**2 / 12\n",
    "    for i in range(1, n - 1):\n",
    "        c0 = 1 + g * q[i - 1]\n",
    "        c1 = 2 - 10 * g * q[i]\n",
    "        c2 = 1 + g * q[i + 1]\n",
    "        u[i + 1] = (c1 * u[i] - c0 * u[i - 1]) / c2\n",
    "    return u"
   ]
  },
  {
   "cell_type": "markdown",
   "metadata": {},
   "source": [
    "**4. Normalizing the Wavefunction**\n",
    "\n",
    "The wavefunction is normalized so that the total probability density equals 1:\n",
    "$$\n",
    "\\int_{-\\infty}^\\infty |\\psi(x)|^2 dx = 1.\n",
    "$$\n",
    "\n",
    "In discrete form, this becomes:\n",
    "$$\n",
    "\\psi_{\\text{normalized}} = \\frac{\\psi}{\\sqrt{\\sum |\\psi_i|^2 h}}.\n",
    "$$\n",
    "This ensures the solution satisfies the boundary conditions.\n"
   ]
  },
  {
   "cell_type": "code",
   "execution_count": 17,
   "metadata": {},
   "outputs": [],
   "source": [
    "def normalize(u, h):\n",
    "    \"\"\"Normalize the wavefunction\"\"\"\n",
    "    norm = np.sqrt(np.sum(u**2) * h)\n",
    "    return u / norm"
   ]
  },
  {
   "cell_type": "markdown",
   "metadata": {},
   "source": [
    "**5. Solving the Schrödinger Equation**\n",
    "\n",
    "This function computes the wavefunction $ \\psi(x) $ for a given energy $ E $. The steps involved are:\n",
    "\n",
    "- Compute the potential \\( q(x) \\) using the given energy.\n",
    "- Integrate from both sides of the potential using the Numerov algorithm:\n",
    "  - $ u_l $: Wavefunction from the left.\n",
    "  - $ u_r $: Wavefunction from the right (reversed).\n",
    "- Match the left and right wavefunctions to ensure continuity and smoothness at the turning point.\n",
    "- Normalize the final wavefunction.\n"
   ]
  },
  {
   "cell_type": "code",
   "execution_count": 18,
   "metadata": {},
   "outputs": [],
   "source": [
    "def solve_schrodinger(e, x, h):\n",
    "    \"\"\"Solve Schrödinger equation using Numerov algorithm\"\"\"\n",
    "    n = len(x)\n",
    "    ql = 2 * (e - potential(x))\n",
    "    qr = ql[::-1]\n",
    "    \n",
    "    im = np.argmax((ql[:-1] * ql[1:] < 0) & (ql[:-1] > 0))\n",
    "\n",
    "    ul = numerov(0, 0.01, ql[:im + 2], h)\n",
    "    ur = numerov(0, 0.01, qr[:n - im + 2], h)\n",
    "\n",
    "    ratio = ur[n - im - 2] / ul[im]\n",
    "    u = np.zeros(n)\n",
    "    u[:im] = ratio * ul[:im]\n",
    "    u[im:] = ur[:n - im][::-1]\n",
    "\n",
    "    return normalize(u, h)"
   ]
  },
  {
   "cell_type": "markdown",
   "metadata": {},
   "source": [
    "**6. Matching Condition**\n",
    "\n",
    "The matching condition ensures that the wavefunction is smooth and continuous at the turning point \\( x_t \\). \n",
    "\n",
    "The function evaluates the difference in slopes between the left and right wavefunctions at \\( x_t \\):\n",
    "$$\n",
    "f(E) = u_r(x_t) - u_l(x_t).\n",
    "$$\n",
    "The correct eigenvalue $ E $ satisfies $ f(E) = 0 $.\n"
   ]
  },
  {
   "cell_type": "code",
   "execution_count": 19,
   "metadata": {},
   "outputs": [],
   "source": [
    "def match_condition(e, x, h):\n",
    "    \"\"\"Matching condition for the root finding\"\"\"\n",
    "    n = len(x)\n",
    "    ql = 2 * (e - potential(x))\n",
    "    qr = ql[::-1]\n",
    "\n",
    "    im = np.argmax((ql[:-1] * ql[1:] < 0) & (ql[:-1] > 0))\n",
    "\n",
    "    ul = numerov(0, 0.01, ql[:im + 2], h)\n",
    "    ur = numerov(0, 0.01, qr[:n - im + 2], h)\n",
    "\n",
    "    return ur[n - im - 2] - ul[im]"
   ]
  },
  {
   "cell_type": "markdown",
   "metadata": {},
   "source": [
    "**7. Secant Method for Eigenvalue**\n",
    "\n",
    "The secant method finds the eigenvalue $ E $ that satisfies the matching condition. \n",
    "\n",
    "The method starts with two guesses $ e_0 $ and $ e_1 $ and iterates using:\n",
    "$$\n",
    "E_{n+1} = E_n - \\frac{f(E_n) (E_n - E_{n-1})}{f(E_n) - f(E_{n-1})}.\n",
    "$$\n",
    "It stops when the difference between successive values is below the tolerance $ \\text{tol} $.\n"
   ]
  },
  {
   "cell_type": "code",
   "execution_count": 20,
   "metadata": {},
   "outputs": [],
   "source": [
    "def secant_method(func, e0, e1, tol, max_iter, x, h):\n",
    "    \"\"\"Find root of the matching condition using the secant method\"\"\"\n",
    "    for _ in range(max_iter):\n",
    "        f0 = func(e0, x, h)\n",
    "        f1 = func(e1, x, h)\n",
    "        e2 = e1 - f1 * (e1 - e0) / (f1 - f0)\n",
    "        if abs(e2 - e1) < tol:\n",
    "            return e2\n",
    "        e0, e1 = e1, e2\n",
    "    raise ValueError(\"Secant method did not converge\")"
   ]
  },
  {
   "cell_type": "markdown",
   "metadata": {},
   "source": [
    "**8. Main Execution**\n",
    "\n",
    "- Defining the spatial grid $ x $ and step size $ h $.\n",
    "- Using the secant method to find the eigenvalue $ E $.\n",
    "- Solving for the wavefunction $ \\psi(x) $ using the Numerov algorithm.\n",
    "- Normalizing and plotting the wavefunction.\n",
    "\n",
    "The eigenvalue $ E $ and corresponding wavefunction $ \\psi(x) $ are the solution to the Schrödinger equation.\n"
   ]
  },
  {
   "cell_type": "code",
   "execution_count": 21,
   "metadata": {},
   "outputs": [
    {
     "name": "stdout",
     "output_type": "stream",
     "text": [
      "The eigenvalue: 2.505582\n"
     ]
    },
    {
     "data": {
      "image/png": "[encoded data removed]",
      "text/plain": [
       "<Figure size 640x480 with 1 Axes>"
      ]
     },
     "metadata": {},
     "output_type": "display_data"
    }
   ],
   "source": [
    "# Parameters\n",
    "x1, x2 = -10, 10\n",
    "nx = 500\n",
    "h = (x2 - x1) / nx\n",
    "x = np.linspace(x1, x2, nx + 1)\n",
    "\n",
    "# Initial guesses for eigenvalue\n",
    "e0, e1 = 2.4, 2.5\n",
    "tol = 1e-6\n",
    "max_iter = 100\n",
    "\n",
    "# Solve for eigenvalue\n",
    "eigenvalue = secant_method(match_condition, e0, e1, tol, max_iter, x, h)\n",
    "print(f\"The eigenvalue: {eigenvalue:.6f}\")\n",
    "\n",
    "# Solve for wavefunction\n",
    "wavefunction = solve_schrodinger(eigenvalue, x, h)\n",
    "\n",
    "# Plot wavefunction\n",
    "plt.plot(x, wavefunction, label=f\"E = {eigenvalue:.6f}\")\n",
    "plt.xlabel(\"x\")\n",
    "plt.ylabel(\"Wavefunction\")\n",
    "plt.title(\"Wavefunction for the Schrödinger Equation\")\n",
    "plt.legend()\n",
    "plt.grid()\n",
    "plt.show()"
   ]
  }
 ],
 "metadata": {
  "kernelspec": {
   "display_name": "Python 3",
   "language": "python",
   "name": "python3"
  },
  "language_info": {
   "codemirror_mode": {
    "name": "ipython",
    "version": 3
   },
   "file_extension": ".py",
   "mimetype": "text/x-python",
   "name": "python",
   "nbconvert_exporter": "python",
   "pygments_lexer": "ipython3",
   "version": "3.11.9"
  }
 },
 "nbformat": 4,
 "nbformat_minor": 2
}
